{
 "cells": [
  {
   "cell_type": "markdown",
   "metadata": {},
   "source": [
    "## Raspagem dos resultados das provas da Maratona do Rio 2019 \n",
    "Meia Maratona, Maratona, Desafio Cidade Maravilhosa, Prova de 5 e 10km e Maratoninha Gloob"
   ]
  },
  {
   "cell_type": "code",
   "execution_count": 1,
   "metadata": {
    "collapsed": true
   },
   "outputs": [],
   "source": [
    "import os\n",
    "import mechanize\n",
    "from bs4 import BeautifulSoup\n",
    "import urllib\n",
    "import pandas as pd\n",
    "from time import time\n",
    "from time import sleep\n",
    "from random import randint"
   ]
  },
  {
   "cell_type": "code",
   "execution_count": 3,
   "metadata": {
    "collapsed": true
   },
   "outputs": [],
   "source": [
    "url_base = 'https://globalcronometragem.com.br/evento/'\n",
    "DATASET_FOLDER  = 'dataset'\n",
    "MEIA_MARATONA = \"meiadorio2019\"\n",
    "\n",
    "br = mechanize.Browser()\n",
    "br.addheaders = [('User-agent', 'Mozilla/5.0 (Macintosh; Intel Mac OS X 10_6_8) AppleWebKit/535.7 (KHTML, like Gecko) Chrome/16.0.912.63 Safari/535.7')]"
   ]
  },
  {
   "cell_type": "markdown",
   "metadata": {},
   "source": [
    "### Meia Maratona"
   ]
  },
  {
   "cell_type": "code",
   "execution_count": 4,
   "metadata": {
    "collapsed": true
   },
   "outputs": [],
   "source": [
    "#with open(\"temp-urls-individuais.txt\", \"w\") as f:\n",
    "#    for i in url_individuais:\n",
    "#        f.write(i + \"\\n\")"
   ]
  },
  {
   "cell_type": "code",
   "execution_count": 24,
   "metadata": {
    "collapsed": true
   },
   "outputs": [],
   "source": [
    "urls_resultado_individual = []"
   ]
  },
  {
   "cell_type": "code",
   "execution_count": 26,
   "metadata": {},
   "outputs": [],
   "source": [
    "with open(\"temp-urls-individuais.txt\", \"r\") as f:\n",
    "    for linha in f:\n",
    "        urls_resultado_individual.append(linha[:-1])"
   ]
  },
  {
   "cell_type": "code",
   "execution_count": 27,
   "metadata": {},
   "outputs": [
    {
     "data": {
      "text/plain": [
       "12019"
      ]
     },
     "execution_count": 27,
     "metadata": {},
     "output_type": "execute_result"
    }
   ],
   "source": [
    "len(urls_resultado_individual)"
   ]
  },
  {
   "cell_type": "code",
   "execution_count": 127,
   "metadata": {
    "collapsed": true
   },
   "outputs": [],
   "source": [
    "resultado = get_resultado_individual_detalhado(\"https://globalcronometragem.com.br/evento/maratonadorio2019/?id=781620\")"
   ]
  },
  {
   "cell_type": "code",
   "execution_count": 128,
   "metadata": {},
   "outputs": [
    {
     "data": {
      "text/plain": [
       "{'Colocação Geral': '671',\n",
       " 'Colocação pela faixa etária': '1',\n",
       " 'Equipe': 'PRETÃ\\x89 PIRACICABA-SP ',\n",
       " 'Modalidade': '42',\n",
       " 'N. Peito': '5401',\n",
       " 'Nome do atleta': 'JOSE ANTONIO TEIXEIRA LEITE',\n",
       " 'Sexo': 'M',\n",
       " 'Tempo bruto': '04:01:59',\n",
       " 'Tempo líquido': '03:35:19'}"
      ]
     },
     "execution_count": 128,
     "metadata": {},
     "output_type": "execute_result"
    }
   ],
   "source": [
    "resultado"
   ]
  },
  {
   "cell_type": "markdown",
   "metadata": {},
   "source": [
    "### Funções Utilitárias"
   ]
  },
  {
   "cell_type": "code",
   "execution_count": 5,
   "metadata": {
    "collapsed": true
   },
   "outputs": [],
   "source": [
    "# Recupera a listagem de categorias da prova do evento\n",
    "def get_categorias(evento):\n",
    "    \n",
    "    br.open(url_base + MEIA_MARATONA)\n",
    "    html = br.response().read()\n",
    "    \n",
    "    cat_soup = BeautifulSoup(html, \"html.parser\")\n",
    "    select_categorias = cat_soup.find(class_ = \"form-control campocategoria\")\n",
    "    \n",
    "    if select_categorias is None:\n",
    "        return None\n",
    "    \n",
    "    options_categorias = select_categorias.find_all(\"option\")\n",
    "    \n",
    "    if options_categorias is None:\n",
    "        return None\n",
    "    \n",
    "    options_categorias = options_categorias[1:]\n",
    "    \n",
    "    categorias = []\n",
    "    \n",
    "    for o in options_categorias:\n",
    "        categorias.append(o['value'])\n",
    "    \n",
    "    return categorias"
   ]
  },
  {
   "cell_type": "code",
   "execution_count": 6,
   "metadata": {
    "collapsed": true
   },
   "outputs": [],
   "source": [
    "#Recupera a URL para o resultado individual de cada atleta do evento por categoria\n",
    "def get_url_resultados_individuais(lista_categorias, evento):\n",
    "    \n",
    "    url_resultados_individuais = []\n",
    "\n",
    "    for categoria in lista_categorias:\n",
    "\n",
    "        #Controle de quantidade de requisição\n",
    "        inicio = time()\n",
    "        sleep(randint(1,10))\n",
    "        espera = time() - inicio\n",
    "\n",
    "        print('--> Request ' + categoria + ' ' + str(espera))\n",
    "        \n",
    "        params = {'npeito': '', 'campopesquisa': '', 'categoria': categoria}\n",
    "\n",
    "        data = urllib.parse.urlencode(params)\n",
    "\n",
    "        br.open(url_base + evento, data = data)\n",
    "        resp = br.response().read()\n",
    "        soup = BeautifulSoup(resp, \"html.parser\")\n",
    "\n",
    "        div_resultados = soup.find_all(class_ = \"campos\")\n",
    "\n",
    "        if div_resultados is None:\n",
    "            continue\n",
    "\n",
    "        for resultado in div_resultados:\n",
    "            a = resultado.find(\"a\")\n",
    "            \n",
    "            if a is None:\n",
    "                continue;\n",
    "                \n",
    "            url_individual = a['href']\n",
    "            \n",
    "            url_resultados_individuais.append(url_individual)\n",
    "\n",
    "            print(resultado.find(\"b\").text)\n",
    "        \n",
    "    return url_resultados_individuais"
   ]
  },
  {
   "cell_type": "code",
   "execution_count": 126,
   "metadata": {},
   "outputs": [],
   "source": [
    "#Recupera o resultado individual do atleta\n",
    "def get_resultado_individual_detalhado(url):\n",
    "\n",
    "    br.open(url)\n",
    "    html = br.response().read()\n",
    "\n",
    "    soup = BeautifulSoup(html, \"html.parser\")\n",
    "\n",
    "    div_externa = soup.find_all(class_ = \"cimaevento span12\")\n",
    "    \n",
    "    if div_externa is None:\n",
    "        return\n",
    "    \n",
    "    if len(div_externa) < 2:\n",
    "        return\n",
    "    \n",
    "    div = div_externa[1]\n",
    "\n",
    "    temp = div.text.split('\\n')\n",
    "\n",
    "    temp = list(filter(lambda x: x != '', temp))[1:-1]\n",
    "\n",
    "    temp_dic = dict(zip(temp[::2], temp[1::2]))\n",
    "    \n",
    "    return temp_dic"
   ]
  }
 ],
 "metadata": {
  "kernelspec": {
   "display_name": "Python 3",
   "language": "python",
   "name": "python3"
  },
  "language_info": {
   "codemirror_mode": {
    "name": "ipython",
    "version": 3
   },
   "file_extension": ".py",
   "mimetype": "text/x-python",
   "name": "python",
   "nbconvert_exporter": "python",
   "pygments_lexer": "ipython3",
   "version": "3.6.3"
  }
 },
 "nbformat": 4,
 "nbformat_minor": 2
}
