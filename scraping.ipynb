{
 "cells": [
  {
   "cell_type": "markdown",
   "metadata": {},
   "source": [
    "## Raspagem dos resultados das provas da Maratona do Rio 2019 \n",
    "Meia Maratona, Maratona, Desafio Cidade Maravilhosa, Prova de 5 e 10km e Maratoninha Gloob"
   ]
  },
  {
   "cell_type": "code",
   "execution_count": 1,
   "metadata": {
    "collapsed": true
   },
   "outputs": [],
   "source": [
    "import os\n",
    "import mechanize\n",
    "from bs4 import BeautifulSoup\n",
    "import urllib\n",
    "import pandas as pd\n",
    "from time import time\n",
    "from time import sleep\n",
    "from random import randint"
   ]
  },
  {
   "cell_type": "code",
   "execution_count": 90,
   "metadata": {
    "collapsed": true
   },
   "outputs": [],
   "source": [
    "url_base = 'https://globalcronometragem.com.br/evento/'\n",
    "DATASET_FOLDER  = 'dataset'\n",
    "MEIA_MARATONA = \"meiadorio2019\"\n",
    "MARATONA = \"maratonadorio2019\"\n",
    "\n",
    "br = mechanize.Browser()\n",
    "br.addheaders = [('User-agent', 'Mozilla/5.0 (Macintosh; Intel Mac OS X 10_6_8) AppleWebKit/535.7 (KHTML, like Gecko) Chrome/16.0.912.63 Safari/535.7')]"
   ]
  },
  {
   "cell_type": "markdown",
   "metadata": {},
   "source": [
    "### Meia Maratona"
   ]
  },
  {
   "cell_type": "code",
   "execution_count": 84,
   "metadata": {},
   "outputs": [
    {
     "name": "stdout",
     "output_type": "stream",
     "text": [
      "--> Request Masculino de 30 ate 34 anos 2.002058506011963\n",
      "--> Request 0 scrape meiadorio2019 4.003050327301025\n",
      "--> Request 1 scrape meiadorio2019 5.005122900009155\n",
      "--> Request 2 scrape meiadorio2019 5.005055665969849\n",
      "--> Request 3 scrape meiadorio2019 7.005539417266846\n",
      "--> Request 4 scrape meiadorio2019 7.006804943084717\n",
      "--> Request 5 scrape meiadorio2019 3.0031278133392334\n"
     ]
    }
   ],
   "source": [
    "df_meia = scrape_evento(MEIA_MARATONA, debug=True)"
   ]
  },
  {
   "cell_type": "code",
   "execution_count": 91,
   "metadata": {},
   "outputs": [
    {
     "name": "stdout",
     "output_type": "stream",
     "text": [
      "--> Request Masculino de 30 ate 34 anos 7.007121801376343\n",
      "--> Request 0 scrape maratonadorio2019 4.004122018814087\n",
      "--> Request 1 scrape maratonadorio2019 6.00475549697876\n",
      "--> Request 2 scrape maratonadorio2019 1.0010428428649902\n",
      "--> Request 3 scrape maratonadorio2019 6.006060838699341\n",
      "--> Request 4 scrape maratonadorio2019 15.009787321090698\n",
      "--> Request 5 scrape maratonadorio2019 10.01006031036377\n"
     ]
    }
   ],
   "source": [
    "df_maratona = scrape_evento(MARATONA, debug=True)"
   ]
  },
  {
   "cell_type": "code",
   "execution_count": 92,
   "metadata": {},
   "outputs": [
    {
     "data": {
      "text/html": [
       "<div>\n",
       "<style>\n",
       "    .dataframe thead tr:only-child th {\n",
       "        text-align: right;\n",
       "    }\n",
       "\n",
       "    .dataframe thead th {\n",
       "        text-align: left;\n",
       "    }\n",
       "\n",
       "    .dataframe tbody tr th {\n",
       "        vertical-align: top;\n",
       "    }\n",
       "</style>\n",
       "<table border=\"1\" class=\"dataframe\">\n",
       "  <thead>\n",
       "    <tr style=\"text-align: right;\">\n",
       "      <th></th>\n",
       "      <th>Nome</th>\n",
       "      <th>N. Peito</th>\n",
       "      <th>Equipe</th>\n",
       "      <th>Modalidade</th>\n",
       "      <th>Sexo</th>\n",
       "      <th>Colocação Geral</th>\n",
       "      <th>Colocação faixa etária</th>\n",
       "      <th>Tempo bruto</th>\n",
       "      <th>Tempo líquido</th>\n",
       "      <th>Categoria</th>\n",
       "    </tr>\n",
       "  </thead>\n",
       "  <tbody>\n",
       "    <tr>\n",
       "      <th>0</th>\n",
       "      <td>EDMILSON DOS REIS SANTANA</td>\n",
       "      <td>7</td>\n",
       "      <td>Sem equipe</td>\n",
       "      <td>42</td>\n",
       "      <td>M</td>\n",
       "      <td>3</td>\n",
       "      <td>0</td>\n",
       "      <td>02:20:47</td>\n",
       "      <td>02:20:46</td>\n",
       "      <td>Masculino de 30 ate 34 anos</td>\n",
       "    </tr>\n",
       "    <tr>\n",
       "      <th>1</th>\n",
       "      <td>WILLIAM KIMBOR</td>\n",
       "      <td>19</td>\n",
       "      <td>Sem equipe</td>\n",
       "      <td>42</td>\n",
       "      <td>M</td>\n",
       "      <td>4</td>\n",
       "      <td>0</td>\n",
       "      <td>02:22:14</td>\n",
       "      <td>02:22:11</td>\n",
       "      <td>Masculino de 30 ate 34 anos</td>\n",
       "    </tr>\n",
       "    <tr>\n",
       "      <th>2</th>\n",
       "      <td>ANTONIO DE SOUZA DIAS</td>\n",
       "      <td>40</td>\n",
       "      <td>TJ OUTLET RUNNING</td>\n",
       "      <td>42</td>\n",
       "      <td>M</td>\n",
       "      <td>5</td>\n",
       "      <td>0</td>\n",
       "      <td>02:23:04</td>\n",
       "      <td>02:23:03</td>\n",
       "      <td>Masculino de 30 ate 34 anos</td>\n",
       "    </tr>\n",
       "    <tr>\n",
       "      <th>3</th>\n",
       "      <td>MEJAM REGINALD LUCIAN</td>\n",
       "      <td>26</td>\n",
       "      <td>Sem equipe</td>\n",
       "      <td>42</td>\n",
       "      <td>M</td>\n",
       "      <td>10</td>\n",
       "      <td>0</td>\n",
       "      <td>02:26:21</td>\n",
       "      <td>02:26:19</td>\n",
       "      <td>Masculino de 30 ate 34 anos</td>\n",
       "    </tr>\n",
       "    <tr>\n",
       "      <th>4</th>\n",
       "      <td>RENILSON VITORINO DA SILVA</td>\n",
       "      <td>3</td>\n",
       "      <td>REVEZA RACING</td>\n",
       "      <td>42</td>\n",
       "      <td>M</td>\n",
       "      <td>16</td>\n",
       "      <td>0</td>\n",
       "      <td>02:32:01</td>\n",
       "      <td>02:31:59</td>\n",
       "      <td>Masculino de 30 ate 34 anos</td>\n",
       "    </tr>\n",
       "    <tr>\n",
       "      <th>5</th>\n",
       "      <td>FÃBIO RAMOS DOS SANTOS</td>\n",
       "      <td>17</td>\n",
       "      <td>CAIXA / CORPORE / THEO DE SOUZA STUDIO</td>\n",
       "      <td>42</td>\n",
       "      <td>M</td>\n",
       "      <td>27</td>\n",
       "      <td>0</td>\n",
       "      <td>02:42:06</td>\n",
       "      <td>02:42:04</td>\n",
       "      <td>Masculino de 30 ate 34 anos</td>\n",
       "    </tr>\n",
       "  </tbody>\n",
       "</table>\n",
       "</div>"
      ],
      "text/plain": [
       "                         Nome N. Peito  \\\n",
       "0   EDMILSON DOS REIS SANTANA        7   \n",
       "1              WILLIAM KIMBOR       19   \n",
       "2       ANTONIO DE SOUZA DIAS       40   \n",
       "3       MEJAM REGINALD LUCIAN       26   \n",
       "4  RENILSON VITORINO DA SILVA        3   \n",
       "5     FÃBIO RAMOS DOS SANTOS       17   \n",
       "\n",
       "                                    Equipe Modalidade Sexo Colocação Geral  \\\n",
       "0                              Sem equipe          42    M               3   \n",
       "1                              Sem equipe          42    M               4   \n",
       "2                       TJ OUTLET RUNNING          42    M               5   \n",
       "3                              Sem equipe          42    M              10   \n",
       "4                           REVEZA RACING          42    M              16   \n",
       "5  CAIXA / CORPORE / THEO DE SOUZA STUDIO          42    M              27   \n",
       "\n",
       "  Colocação faixa etária Tempo bruto Tempo líquido  \\\n",
       "0                      0    02:20:47      02:20:46   \n",
       "1                      0    02:22:14      02:22:11   \n",
       "2                      0    02:23:04      02:23:03   \n",
       "3                      0    02:26:21      02:26:19   \n",
       "4                      0    02:32:01      02:31:59   \n",
       "5                      0    02:42:06      02:42:04   \n",
       "\n",
       "                     Categoria  \n",
       "0  Masculino de 30 ate 34 anos  \n",
       "1  Masculino de 30 ate 34 anos  \n",
       "2  Masculino de 30 ate 34 anos  \n",
       "3  Masculino de 30 ate 34 anos  \n",
       "4  Masculino de 30 ate 34 anos  \n",
       "5  Masculino de 30 ate 34 anos  "
      ]
     },
     "execution_count": 92,
     "metadata": {},
     "output_type": "execute_result"
    }
   ],
   "source": [
    "df_maratona"
   ]
  },
  {
   "cell_type": "markdown",
   "metadata": {},
   "source": [
    "### Funções Utilitárias"
   ]
  },
  {
   "cell_type": "code",
   "execution_count": 3,
   "metadata": {
    "collapsed": true
   },
   "outputs": [],
   "source": [
    "# Recupera a listagem de categorias da prova do evento\n",
    "def get_categorias(evento):\n",
    "    \n",
    "    br.open(url_base + MEIA_MARATONA)\n",
    "    html = br.response().read()\n",
    "    \n",
    "    cat_soup = BeautifulSoup(html, \"html.parser\")\n",
    "    select_categorias = cat_soup.find(class_ = \"form-control campocategoria\")\n",
    "    \n",
    "    if select_categorias is None:\n",
    "        return None\n",
    "    \n",
    "    options_categorias = select_categorias.find_all(\"option\")\n",
    "    \n",
    "    if options_categorias is None:\n",
    "        return None\n",
    "    \n",
    "    options_categorias = options_categorias[1:]\n",
    "    \n",
    "    categorias = []\n",
    "    \n",
    "    for o in options_categorias:\n",
    "        categorias.append(o['value'])\n",
    "    \n",
    "    return categorias"
   ]
  },
  {
   "cell_type": "code",
   "execution_count": 4,
   "metadata": {},
   "outputs": [],
   "source": [
    "#Recupera a URL para o resultado individual de cada atleta do evento por categoria\n",
    "def get_url_resultados_individuais(lista_categorias, evento, debug = False):\n",
    "    \n",
    "    url_resultados_individuais = []\n",
    "\n",
    "    for categoria in lista_categorias:\n",
    "\n",
    "        #Controle de quantidade de requisição\n",
    "        inicio = time()\n",
    "        sleep(randint(1,10))\n",
    "        espera = time() - inicio\n",
    "\n",
    "        print('--> Request ' + categoria + ' ' + str(espera))\n",
    "        \n",
    "        params = {'npeito': '', 'campopesquisa': '', 'categoria': categoria}\n",
    "\n",
    "        data = urllib.parse.urlencode(params)\n",
    "\n",
    "        br.open(url_base + evento, data = data)\n",
    "        resp = br.response().read()\n",
    "        soup = BeautifulSoup(resp, \"html.parser\")\n",
    "\n",
    "        div_resultados = soup.find_all(class_ = \"campos\")\n",
    "\n",
    "        if div_resultados is None:\n",
    "            continue\n",
    "\n",
    "        for resultado in div_resultados:\n",
    "            a = resultado.find(\"a\")\n",
    "            \n",
    "            if a is None:\n",
    "                continue;\n",
    "                \n",
    "            url_individual = a['href']\n",
    "            \n",
    "            url_resultados_individuais.append({\n",
    "                \"url\": url_individual,\n",
    "                \"categoria\": categoria\n",
    "            })\n",
    "    \n",
    "        if debug:\n",
    "            break\n",
    "    \n",
    "    return url_resultados_individuais"
   ]
  },
  {
   "cell_type": "code",
   "execution_count": 5,
   "metadata": {},
   "outputs": [],
   "source": [
    "#Recupera o resultado individual do atleta\n",
    "def get_resultado_individual_detalhado(url):\n",
    "\n",
    "    br.open(url)\n",
    "    html = br.response().read()\n",
    "\n",
    "    soup = BeautifulSoup(html, \"html.parser\")\n",
    "\n",
    "    div_externa = soup.find_all(class_ = \"cimaevento span12\")\n",
    "    \n",
    "    if div_externa is None:\n",
    "        return\n",
    "    \n",
    "    if len(div_externa) < 2:\n",
    "        return\n",
    "    \n",
    "    div = div_externa[1]\n",
    "\n",
    "    temp = div.text.split('\\n')\n",
    "\n",
    "    temp = list(filter(lambda x: x != '', temp))[1:-1]\n",
    "\n",
    "    temp_dic = dict(zip(temp[::2], temp[1::2]))\n",
    "    \n",
    "    return temp_dic"
   ]
  },
  {
   "cell_type": "code",
   "execution_count": 88,
   "metadata": {
    "collapsed": true
   },
   "outputs": [],
   "source": [
    "#Faz a raspagem de dados do evento e retorna em um dataframe Pandas\n",
    "def scrape_evento(evento, debug = False):\n",
    "    \n",
    "    categorias = get_categorias(evento)\n",
    "\n",
    "    resultados_categoria = get_url_resultados_individuais(categorias, evento, debug=debug)\n",
    "\n",
    "    data = []\n",
    "    count = 0\n",
    "    \n",
    "    for linha in resultados_categoria:\n",
    "        \n",
    "        if debug == True and count > 5:\n",
    "            break\n",
    "        \n",
    "        #Controle de quantidade de requisição\n",
    "        inicio = time()\n",
    "        sleep(randint(1,15))\n",
    "        espera = time() - inicio\n",
    "\n",
    "        print('--> Request ' + str(count) + ' scrape ' + evento + ' ' + str(espera))\n",
    "        \n",
    "        count += 1\n",
    "        \n",
    "        resultado_individual = get_resultado_individual_detalhado(linha['url'])\n",
    "        resultado_individual['Categoria'] = linha['categoria']\n",
    "        data.append(list(resultado_individual.values()))\n",
    "\n",
    "\n",
    "    columns = ['Nome', 'N. Peito', 'Equipe', 'Modalidade', 'Sexo', 'Colocação Geral', 'Colocação faixa etária','Tempo bruto', 'Tempo líquido', 'Categoria']\n",
    "\n",
    "    df = pd.DataFrame(data=data, columns=columns)\n",
    "    \n",
    "    return df"
   ]
  }
 ],
 "metadata": {
  "kernelspec": {
   "display_name": "Python 3",
   "language": "python",
   "name": "python3"
  },
  "language_info": {
   "codemirror_mode": {
    "name": "ipython",
    "version": 3
   },
   "file_extension": ".py",
   "mimetype": "text/x-python",
   "name": "python",
   "nbconvert_exporter": "python",
   "pygments_lexer": "ipython3",
   "version": "3.6.3"
  }
 },
 "nbformat": 4,
 "nbformat_minor": 2
}
